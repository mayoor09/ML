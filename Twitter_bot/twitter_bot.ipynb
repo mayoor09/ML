{
 "cells": [
  {
   "cell_type": "code",
   "execution_count": 1,
   "metadata": {},
   "outputs": [],
   "source": [
    "from tweepy.streaming import StreamListener\n",
    "from tweepy import OAuthHandler\n",
    "from tweepy import Stream\n",
    "from tweepy import API \n",
    "from tweepy import Cursor\n",
    "from textblob import TextBlob"
   ]
  },
  {
   "cell_type": "code",
   "execution_count": 171,
   "metadata": {},
   "outputs": [],
   "source": [
    "import pandas as pd \n",
    "import numpy as np\n",
    "import matplotlib.pyplot as plt\n",
    "import re\n",
    "import time"
   ]
  },
  {
   "cell_type": "code",
   "execution_count": 3,
   "metadata": {},
   "outputs": [],
   "source": [
    "import twitter_credentials"
   ]
  },
  {
   "cell_type": "code",
   "execution_count": null,
   "metadata": {},
   "outputs": [],
   "source": []
  },
  {
   "cell_type": "code",
   "execution_count": 167,
   "metadata": {},
   "outputs": [],
   "source": [
    "class TwitterClient():\n",
    "    \n",
    "    def __init__(self):        \n",
    "        \"\"\"\n",
    "        Setting up the autheticated connection with tweepy\n",
    "        \"\"\"\n",
    "        self.auth = OAuthHandler(twitter_credentials.CONSUMER_KEY, twitter_credentials.CONSUMER_SECRET)\n",
    "        self.auth.set_access_token(twitter_credentials.ACCESS_TOKEN, twitter_credentials.ACCESS_TOKEN_SECRET)\n",
    "        \n",
    "        self.tweepy_api = API(self.auth)\n",
    "        \n",
    "    def read_last_tweet_id(self):\n",
    "        id_file = open('tweets_id.txt','r')\n",
    "        last_seen_tweet_id = int(id_file.read())\n",
    "        \n",
    "        return last_seen_tweet_id\n",
    "    \n",
    "    \n",
    "    def write_tweet_id(self,tweet_id):\n",
    "        id_file = open('tweets_id.txt','w')\n",
    "        id_file.write(str(tweet_id))\n",
    "        id_file.write(\"\\n\")\n",
    "        id_file.close()        \n",
    "        return True\n",
    "    \n",
    "    def get_mentions(self,last_seen_tweet_id = None):\n",
    "        user_mentions = self.tweepy_api.mentions_timeline(since_id = last_seen_tweet_id)\n",
    "        return user_mentions\n",
    "    \n",
    "    \n",
    "    def clean_tweet(self, tweet):\n",
    "        return ' '.join(re.sub(\"(@[A-Za-z0-9]+)|([^0-9A-Za-z \\t])|(\\w+:\\/\\/\\S+)\", \" \", tweet).split())\n",
    "\n",
    "    \n",
    "    def analyze_sentiment(self, tweet):\n",
    "        analysis = TextBlob(self.clean_tweet(tweet))        \n",
    "        if analysis.sentiment.polarity > 0:\n",
    "            return 1\n",
    "        elif analysis.sentiment.polarity < 0:\n",
    "            return -1\n",
    "        else:\n",
    "            return 0\n",
    "        \n",
    "    def reply_tweet(self,tweet_id,sentiment):\n",
    "        if sentiment == 1:\n",
    "            self.tweepy_api.create_favorite(tweet_id)\n",
    "            self.tweepy_api.retweet(tweet_id)\n",
    "            self.tweepy_api.update_status(\"Thanks\",tweet_id)\n",
    "            #print(\"Favorited\")\n",
    "        elif sentiment == -1:\n",
    "            self.tweepy_api.update_status(\"I am so sorry that I heart your sentiments\",tweet_id)\n",
    "    \n",
    "    "
   ]
  },
  {
   "cell_type": "code",
   "execution_count": null,
   "metadata": {},
   "outputs": [],
   "source": []
  },
  {
   "cell_type": "code",
   "execution_count": 183,
   "metadata": {},
   "outputs": [
    {
     "name": "stdout",
     "output_type": "stream",
     "text": [
      "id 1299264745455800323 Hey @GhodekarMayur just check this thread out ! I was smiling throughout 😀 https://t.co/uwAucgPJNf\n",
      "Sentiment  0\n",
      "tweet_id after write 1299264745455800323\n",
      "id 1299238615432585216 @GhodekarMayur No. I meant there was an identifier under the tweet that showed it was a bot not you..\n",
      "Sentiment  0\n",
      "tweet_id after write 1299238615432585216\n"
     ]
    }
   ],
   "source": [
    "    if __name__ == '__main__':        \n",
    "        \n",
    "        twitter_client = TwitterClient()    \n",
    "        last_seen_tweet_id = twitter_client.read_last_tweet_id()\n",
    "        #print(\"last seen id \",mentions)\n",
    "        mention_list = twitter_client.get_mentions(last_seen_tweet_id)\n",
    "\n",
    "        #twitter_client.write_tweet_id(mentions)        \n",
    "        #print(mentions)\n",
    "        for tweet in mention_list:\n",
    "            print(\"id \" + str(tweet.id) + \" \" +tweet.text)\n",
    "            sentiment = twitter_client.analyze_sentiment(tweet.text)\n",
    "            print(\"Sentiment \",sentiment)\n",
    "            twitter_client.reply_tweet(tweet.id,sentiment)\n",
    "            twitter_client.write_tweet_id(tweet.id)\n",
    "            print(\"tweet_id after write\", tweet.id)\n",
    "        "
   ]
  },
  {
   "cell_type": "code",
   "execution_count": 181,
   "metadata": {},
   "outputs": [],
   "source": [
    "def reply_to_tweets():\n",
    "    if __name__ == '__main__':        \n",
    "        \n",
    "        twitter_client = TwitterClient()    \n",
    "        last_seen_tweet_id = twitter_client.read_last_tweet_id()\n",
    "        #print(\"last seen id \",mentions)\n",
    "        mention_list = twitter_client.get_mentions(last_seen_tweet_id)\n",
    "\n",
    "        #twitter_client.write_tweet_id(mentions)        \n",
    "        #print(mentions)\n",
    "        for tweet in mention_list:\n",
    "            print(\"id \" + str(tweet.id) + \" \" +tweet.text)\n",
    "            sentiment = twitter_client.analyze_sentiment(tweet.text)\n",
    "            print(\"Sentiment \",sentiment)\n",
    "            twitter_client.reply_tweet(tweet.id,sentiment)\n",
    "            twitter_client.write_tweet_id(tweet.id)\n",
    "            print(\"tweet_id after write\", tweet.id)\n",
    "        "
   ]
  },
  {
   "cell_type": "code",
   "execution_count": 180,
   "metadata": {},
   "outputs": [
    {
     "ename": "KeyboardInterrupt",
     "evalue": "",
     "output_type": "error",
     "traceback": [
      "\u001b[1;31m---------------------------------------------------------------------------\u001b[0m",
      "\u001b[1;31mKeyboardInterrupt\u001b[0m                         Traceback (most recent call last)",
      "\u001b[1;32m<ipython-input-180-24e5d1ee125c>\u001b[0m in \u001b[0;36m<module>\u001b[1;34m\u001b[0m\n\u001b[0;32m      1\u001b[0m \u001b[1;32mwhile\u001b[0m \u001b[1;32mTrue\u001b[0m\u001b[1;33m:\u001b[0m\u001b[1;33m\u001b[0m\u001b[1;33m\u001b[0m\u001b[0m\n\u001b[0;32m      2\u001b[0m     \u001b[0mreply_to_tweets\u001b[0m\u001b[1;33m(\u001b[0m\u001b[1;33m)\u001b[0m\u001b[1;33m\u001b[0m\u001b[1;33m\u001b[0m\u001b[0m\n\u001b[1;32m----> 3\u001b[1;33m     \u001b[0mtime\u001b[0m\u001b[1;33m.\u001b[0m\u001b[0msleep\u001b[0m\u001b[1;33m(\u001b[0m\u001b[1;36m2\u001b[0m\u001b[1;33m)\u001b[0m\u001b[1;33m\u001b[0m\u001b[1;33m\u001b[0m\u001b[0m\n\u001b[0m",
      "\u001b[1;31mKeyboardInterrupt\u001b[0m: "
     ]
    }
   ],
   "source": [
    "while True:\n",
    "    reply_to_tweets()\n",
    "    time.sleep(2)"
   ]
  },
  {
   "cell_type": "code",
   "execution_count": 157,
   "metadata": {},
   "outputs": [],
   "source": [
    "men = twitter_client.get_mentions()"
   ]
  },
  {
   "cell_type": "code",
   "execution_count": null,
   "metadata": {},
   "outputs": [],
   "source": []
  },
  {
   "cell_type": "code",
   "execution_count": null,
   "metadata": {},
   "outputs": [],
   "source": []
  }
 ],
 "metadata": {
  "kernelspec": {
   "display_name": "Python 3",
   "language": "python",
   "name": "python3"
  },
  "language_info": {
   "codemirror_mode": {
    "name": "ipython",
    "version": 3
   },
   "file_extension": ".py",
   "mimetype": "text/x-python",
   "name": "python",
   "nbconvert_exporter": "python",
   "pygments_lexer": "ipython3",
   "version": "3.7.3"
  }
 },
 "nbformat": 4,
 "nbformat_minor": 2
}
